{
  "nbformat": 4,
  "nbformat_minor": 0,
  "metadata": {
    "colab": {
      "provenance": [],
      "include_colab_link": true
    },
    "kernelspec": {
      "name": "python3",
      "display_name": "Python 3"
    },
    "language_info": {
      "name": "python"
    }
  },
  "cells": [
    {
      "cell_type": "markdown",
      "metadata": {
        "id": "view-in-github",
        "colab_type": "text"
      },
      "source": [
        "<a href=\"https://colab.research.google.com/github/dylpicklesTU26/dylanmurray/blob/main/Murray_Patri_M2.ipynb\" target=\"_parent\"><img src=\"https://colab.research.google.com/assets/colab-badge.svg\" alt=\"Open In Colab\"/></a>"
      ]
    },
    {
      "cell_type": "markdown",
      "source": [
        "Dylan Murray and Maya Patri\n",
        "\n",
        "Exploring Lyme Disease Trends  \n",
        "[View this project on GitHub.io](https://github.com/dylpicklesTU26/dylanmurray)"
      ],
      "metadata": {
        "id": "FBbCJpqBI449"
      }
    },
    {
      "cell_type": "markdown",
      "source": [
        "**Project Overview – Exploring Lyme Disease Trends in the U.S.**\n",
        "\n",
        "This project analyzes historical Lyme disease incidence across U.S. counties using publicly available CDC datasets, focusing on trends from 1992 to 2011. Lyme disease, a bacterial infection transmitted by ticks, is among the most prevalent vector-borne illnesses in North America. Its symptoms can range from mild fatigue and fever to severe long-term complications, making early detection and prevention critical.\n",
        "\n",
        "In **Milestone 1**, we visualized trends in disease incidence by state and year range to identify high-risk regions and time periods with notable increases in reported cases.\n",
        "\n",
        "In **Milestone 2**, we expanded our analysis by integrating county-level climate data. Specifically, we examined whether temperature patterns—particularly average annual temperatures—correlate with Lyme disease incidence. After merging the datasets by State, County, and YearRange, we used exploratory visualizations and linear regression to evaluate possible associations.\n",
        "\n",
        "Our regression analysis revealed a statistically significant but modest negative correlation between temperature and reported Lyme cases. This suggests that colder regions may see more Lyme disease activity, possibly due to environmental conditions favoring tick habitats or host behaviors. While temperature alone is not a strong predictor, it may contribute to broader patterns when combined with ecological and behavioral variables in future models.\n"
      ],
      "metadata": {
        "id": "xcanVojeLPhN"
      }
    },
    {
      "cell_type": "markdown",
      "source": [
        "**Research Questions:**\n",
        "\n",
        "How has Lyme disease incidence changed across U.S. counties from 1992–2011?\n",
        "\n",
        "Which states and regions show the highest incidence rates or the steepest increases?\n",
        "\n",
        "Does average temperature correlate with Lyme disease cases at the county level?"
      ],
      "metadata": {
        "id": "Klz62NBcNzsH"
      }
    },
    {
      "cell_type": "markdown",
      "source": [
        "**Data Sourcing**\n",
        "\n",
        "Lyme disease case data comes from the CDC – Lyme Disease Data and Surveillance (https://www.cdc.gov/lyme/data-research/facts-stats/index.html)\n",
        "\n",
        "Temperature data comes from NOAA’s National Centers for Environmental Information (NCEI) (https://www.ncei.noaa.gov/access/monitoring/climate-at-a-glance/county/mapping/110/tavg/199603/60/value)"
      ],
      "metadata": {
        "id": "V9t_8fcXOUZs"
      }
    },
    {
      "cell_type": "markdown",
      "source": [
        "Our initial dataset for Lyme rates contained missing values (NaN) for Lyme incidence in some states, which required imputation before analysis and for temperature was aggregated and cleaned by year range for each county in the U.S."
      ],
      "metadata": {
        "id": "2d5Mf3m4Pt_G"
      }
    },
    {
      "cell_type": "code",
      "source": [
        "import pandas as pd\n",
        "import numpy as np\n",
        "import matplotlib.pyplot as plt\n",
        "import seaborn as sns\n",
        "import statsmodels.api as sm\n",
        "\n",
        "# Mount Google Drive\n",
        "from google.colab import drive\n",
        "drive.mount('/content/drive')\n",
        "\n",
        "# Load datasets\n",
        "lyme_df = pd.read_csv(\"/content/drive/MyDrive/DataScienceProject/LymeDisease_9211_county.csv\")\n",
        "temp_df = pd.read_csv(\"/content/drive/MyDrive/DataScienceProject/Cleaned_Temperature_Dataset.csv\")\n",
        "\n",
        "# Rename and clean Lyme data\n",
        "lyme_df.rename(columns={\n",
        "    'ConfirmedCount_1992_1996': 'Lyme Cases 1992-1996',\n",
        "    'ConfirmedCount_1997_2001': 'Lyme Cases 1997-2001',\n",
        "    'ConfirmedCount_2002_2006': 'Lyme Cases 2002-2006',\n",
        "    'ConfirmedCount_2007_2011': 'Lyme Cases 2007-2011'\n",
        "}, inplace=True)\n",
        "\n",
        "lyme_df.fillna(0, inplace=True)\n",
        "\n",
        "lyme_df['StateName'] = lyme_df['StateName'].astype(str)\n",
        "lyme_df['CountyName'] = lyme_df['CountyName'].astype(str)\n",
        "\n",
        "for col in ['Lyme Cases 1992-1996', 'Lyme Cases 1997-2001', 'Lyme Cases 2002-2006', 'Lyme Cases 2007-2011']:\n",
        "    lyme_df[col] = lyme_df[col].astype(int)\n",
        "\n",
        "# Reshape Lyme data to long format\n",
        "lyme_long = lyme_df.melt(\n",
        "    id_vars=['StateName', 'CountyName'],\n",
        "    value_vars=[\n",
        "        'Lyme Cases 1992-1996',\n",
        "        'Lyme Cases 1997-2001',\n",
        "        'Lyme Cases 2002-2006',\n",
        "        'Lyme Cases 2007-2011'\n",
        "    ],\n",
        "    var_name='YearRange',\n",
        "    value_name='Cases'\n",
        ")\n",
        "\n",
        "lyme_long['YearRange'] = lyme_long['YearRange'].str.extract(r'Lyme Cases (.*)')\n",
        "\n",
        "# TEST 0\n",
        "#print(\"Temp DF columns before renaming:\", temp_df.columns)\n",
        "\n",
        "# Rename the columns\n",
        "temp_df.rename(columns={'Temp': 'AvgTemp'}, inplace=True)\n",
        "temp_df.rename(columns={'State': 'StateName', 'County': 'CountyName'}, inplace=True)\n",
        "\n",
        "# TEST 1\n",
        "#print(temp_df.columns)\n",
        "#print(lyme_long.columns)\n",
        "\n",
        "# Standardize YearRange values in temp_df\n",
        "temp_df['YearRange'] = temp_df['YearRange'].str.replace('Lyme Cases ', '', regex=False)\n",
        "\n",
        "# TEST 1.A\n",
        "#print(\"\\nAfter renaming, columns in temp_df:\", temp_df.columns)\n",
        "#print(\"Example YearRange values in lyme_long:\", lyme_long['YearRange'].unique())\n",
        "#print(\"Example YearRange values in temp_df:\", temp_df['YearRange'].unique())\n",
        "\n",
        "# Merge datasets\n",
        "merged = pd.merge(lyme_long, temp_df, on=['StateName', 'CountyName', 'YearRange'], how='inner')\n",
        "print(\"\\nMerged shape:\", merged.shape)\n",
        "\n",
        "# The Visual Stuff Now\n",
        "\n",
        "# Correlation heatmap\n",
        "if not merged.empty:\n",
        "    plt.figure(figsize=(8,6))\n",
        "    #CHANGED THIS ONE\n",
        "    #HEATMAP\n",
        "    sns.heatmap(merged[['Cases', 'AvgTemp']].corr(), annot=True, cmap='coolwarm')\n",
        "    plt.title('Correlation Between Lyme Cases and Temperature')\n",
        "    plt.show()\n",
        "\n",
        "    # SCATTER BY TIME\n",
        "    sns.lmplot(data=merged, x='AvgTemp', y='Cases', col='YearRange', height=4, aspect=1)\n",
        "    plt.subplots_adjust(top=0.85)\n",
        "    plt.suptitle('Cases vs AvgTemp by Year Range')\n",
        "    plt.show()\n",
        "\n",
        "    # TOP 5 STATES\n",
        "    top_states = merged.groupby('StateName')['Cases'].sum().nlargest(5).index.tolist()\n",
        "    top_merged = merged[merged['StateName'].isin(top_states)]\n",
        "\n",
        "    sns.lmplot(data=top_merged, x='AvgTemp', y='Cases', hue='StateName', col='YearRange', height=5, aspect=1)\n",
        "    plt.subplots_adjust(top=0.85)\n",
        "    plt.suptitle('Cases vs AvgTemp in Top 5 States')\n",
        "    plt.show()\n",
        "\n",
        "    # LINEAR REGRESSION\n",
        "    X = sm.add_constant(merged[['AvgTemp']])\n",
        "    y = merged['Cases']\n",
        "    model = sm.OLS(y, X).fit()\n",
        "    print(model.summary())\n",
        "\n",
        "    # Histogram of Average Temperature\n",
        "    plt.figure(figsize=(10,6))\n",
        "    sns.histplot(data=merged, x='AvgTemp', bins=30, kde=True, color='skyblue')\n",
        "    plt.title('Distribution of Average Temperature Across Counties')\n",
        "    plt.xlabel('Average Temperature (°F)')\n",
        "    plt.ylabel('Frequency')\n",
        "    plt.grid(True)\n",
        "    plt.show()\n",
        "\n",
        "  # HISTOGRAM\n",
        "    plt.figure(figsize=(10,6))\n",
        "    sns.histplot(data=merged, x='Cases', bins=30, kde=True, color='salmon')\n",
        "    plt.title('Distribution of Lyme Disease Cases per County')\n",
        "    plt.xlabel('Number of Cases')\n",
        "    plt.ylabel('Frequency')\n",
        "    plt.grid(True)\n",
        "    plt.show()\n",
        "\n",
        "    # BOXPLOT\n",
        "    merged['TempQuartile'] = pd.qcut(merged['AvgTemp'], q=4, labels=['Q1 (Coldest)', 'Q2', 'Q3', 'Q4 (Warmest)'])\n",
        "\n",
        "    plt.figure(figsize=(10,6))\n",
        "    sns.boxplot(data=merged, x='TempQuartile', y='Cases', palette='YlGnBu')\n",
        "    plt.title('Lyme Disease Cases by Temperature Quartile')\n",
        "    plt.xlabel('Temperature Quartile')\n",
        "    plt.ylabel('Cases')\n",
        "    plt.grid(True)\n",
        "    plt.show()\n",
        "\n",
        "    # REGRESSION LOOP\n",
        "    state_slopes = []\n",
        "\n",
        "    for state in merged['StateName'].unique():\n",
        "        subset = merged[merged['StateName'] == state]\n",
        "        if subset['AvgTemp'].nunique() > 1:\n",
        "            X = sm.add_constant(subset[['AvgTemp']])\n",
        "            y = subset['Cases']\n",
        "            model = sm.OLS(y, X).fit()\n",
        "            state_slopes.append({\n",
        "                'State': state,\n",
        "                'Slope': model.params['AvgTemp'],\n",
        "                'P-Value': model.pvalues['AvgTemp'],\n",
        "                'R-squared': model.rsquared\n",
        "            })\n",
        "\n",
        "    state_slopes_df = pd.DataFrame(state_slopes)\n",
        "    state_slopes_df = state_slopes_df.sort_values(by='Slope')\n",
        "\n",
        "    # Map states to regions\n",
        "  region_map = {\n",
        "    'ME': 'Northeast', 'NH': 'Northeast', 'VT': 'Northeast', 'MA': 'Northeast', 'RI': 'Northeast', 'CT': 'Northeast',\n",
        "    'NY': 'Northeast', 'PA': 'Northeast', 'NJ': 'Northeast',\n",
        "    'OH': 'Midwest', 'MI': 'Midwest', 'IN': 'Midwest', 'IL': 'Midwest', 'WI': 'Midwest', 'MN': 'Midwest', 'IA': 'Midwest',\n",
        "    'MO': 'Midwest', 'ND': 'Midwest', 'SD': 'Midwest', 'NE': 'Midwest', 'KS': 'Midwest',\n",
        "    'DE': 'South', 'MD': 'South', 'VA': 'South', 'WV': 'South', 'NC': 'South', 'SC': 'South',\n",
        "    'GA': 'South', 'FL': 'South', 'KY': 'South', 'TN': 'South', 'MS': 'South', 'AL': 'South', 'OK': 'South', 'TX': 'South', 'AR': 'South', 'LA': 'South',\n",
        "    'MT': 'West', 'ID': 'West', 'WY': 'West', 'CO': 'West', 'NM': 'West', 'AZ': 'West', 'UT': 'West', 'NV': 'West', 'CA': 'West', 'WA': 'West', 'OR': 'West', 'AK': 'West', 'HI': 'West'\n",
        "}\n",
        "\n",
        "# Some state names may need to be abbreviated first (assuming full names currently)\n",
        "import us\n",
        "merged['StateAbbr'] = merged['StateName'].map(lambda x: us.states.lookup(x).abbr if us.states.lookup(x) else None)\n",
        "merged['Region'] = merged['StateAbbr'].map(region_map)\n",
        "\n",
        "# Drop rows with unknown regions (e.g., territories or mismatched names)\n",
        "regional_df = merged.dropna(subset=['Region'])\n",
        "\n",
        "# Aggregate by region and year range\n",
        "regional_trends = regional_df.groupby(['Region', 'YearRange'])['Cases'].mean().reset_index()\n",
        "\n",
        "# Plot\n",
        "plt.figure(figsize=(10,6))\n",
        "sns.lineplot(data=regional_trends, x='YearRange', y='Cases', hue='Region', marker='o')\n",
        "plt.title('Average Lyme Disease Cases per County by Region Over Time')\n",
        "plt.xlabel('Year Range')\n",
        "plt.ylabel('Average Cases per County')\n",
        "plt.grid(True)\n",
        "plt.legend(title='Region')\n",
        "plt.show()\n",
        "\n",
        "    # TOP 10 STATES\n",
        "    print(\"Top 5 States: Strongest Positive Relationship Between Temp and Cases\")\n",
        "    print(state_slopes_df.sort_values(by='Slope', ascending=False).head(5))\n",
        "\n",
        "    print(\"\\nTop 5 States: Strongest Negative Relationship Between Temp and Cases\")\n",
        "    print(state_slopes_df.head(5))\n",
        "\n",
        "else:\n",
        "    print(\"⚠️ Merge returned NO DATA ⚠️ So go and CHECK the YearRange values in BOTH dataframes.\")\n"
      ],
      "metadata": {
        "colab": {
          "base_uri": "https://localhost:8080/",
          "height": 108
        },
        "id": "U974_ugJIjJI",
        "outputId": "bb30a5b6-dff5-4f85-8d7f-b7287f2d46e8"
      },
      "execution_count": null,
      "outputs": [
        {
          "output_type": "error",
          "ename": "IndentationError",
          "evalue": "unindent does not match any outer indentation level (<tokenize>, line 150)",
          "traceback": [
            "\u001b[0;36m  File \u001b[0;32m\"<tokenize>\"\u001b[0;36m, line \u001b[0;32m150\u001b[0m\n\u001b[0;31m    region_map = {\u001b[0m\n\u001b[0m    ^\u001b[0m\n\u001b[0;31mIndentationError\u001b[0m\u001b[0;31m:\u001b[0m unindent does not match any outer indentation level\n"
          ]
        }
      ]
    },
    {
      "cell_type": "code",
      "source": [
        "# region specific data\n",
        "\n",
        "# Direct map from full state names to regions\n",
        "region_map_fullnames = {\n",
        "    'Maine': 'Northeast', 'New Hampshire': 'Northeast', 'Vermont': 'Northeast', 'Massachusetts': 'Northeast',\n",
        "    'Rhode Island': 'Northeast', 'Connecticut': 'Northeast', 'New York': 'Northeast', 'Pennsylvania': 'Northeast',\n",
        "    'New Jersey': 'Northeast',\n",
        "\n",
        "    'Ohio': 'Midwest', 'Michigan': 'Midwest', 'Indiana': 'Midwest', 'Illinois': 'Midwest', 'Wisconsin': 'Midwest',\n",
        "    'Minnesota': 'Midwest', 'Iowa': 'Midwest', 'Missouri': 'Midwest', 'North Dakota': 'Midwest', 'South Dakota': 'Midwest',\n",
        "    'Nebraska': 'Midwest', 'Kansas': 'Midwest',\n",
        "\n",
        "    'Delaware': 'South', 'Maryland': 'South', 'Virginia': 'South', 'West Virginia': 'South',\n",
        "    'North Carolina': 'South', 'South Carolina': 'South', 'Georgia': 'South', 'Florida': 'South',\n",
        "    'Kentucky': 'South', 'Tennessee': 'South', 'Mississippi': 'South', 'Alabama': 'South',\n",
        "    'Oklahoma': 'South', 'Texas': 'South', 'Arkansas': 'South', 'Louisiana': 'South',\n",
        "\n",
        "    'Montana': 'West', 'Idaho': 'West', 'Wyoming': 'West', 'Colorado': 'West', 'New Mexico': 'West',\n",
        "    'Arizona': 'West', 'Utah': 'West', 'Nevada': 'West', 'California': 'West', 'Washington': 'West',\n",
        "    'Oregon': 'West', 'Alaska': 'West', 'Hawaii': 'West'\n",
        "}\n",
        "\n",
        "# Apply the map to your dataframe\n",
        "merged['Region'] = merged['StateName'].map(region_map_fullnames)\n",
        "\n",
        "# Drop rows with unknown regions (e.g., D.C. or territories not in the map)\n",
        "regional_df = merged.dropna(subset=['Region'])\n",
        "\n",
        "# Group by region and time\n",
        "regional_trends = regional_df.groupby(['Region', 'YearRange'])['Cases'].mean().reset_index()\n",
        "\n",
        "# Plot it\n",
        "plt.figure(figsize=(10,6))\n",
        "sns.lineplot(data=regional_trends, x='YearRange', y='Cases', hue='Region', marker='o')\n",
        "plt.title('Average Lyme Disease Cases per County by Region Over Time')\n",
        "plt.xlabel('Year Range')\n",
        "plt.ylabel('Average Cases per County')\n",
        "plt.grid(True)\n",
        "plt.legend(title='Region')\n",
        "plt.show()"
      ],
      "metadata": {
        "id": "dCst4w2WSilQ",
        "outputId": "5d59324d-2a63-4148-b3ec-18c94ab8eda2",
        "colab": {
          "base_uri": "https://localhost:8080/",
          "height": 216
        }
      },
      "execution_count": 1,
      "outputs": [
        {
          "output_type": "error",
          "ename": "NameError",
          "evalue": "name 'merged' is not defined",
          "traceback": [
            "\u001b[0;31m---------------------------------------------------------------------------\u001b[0m",
            "\u001b[0;31mNameError\u001b[0m                                 Traceback (most recent call last)",
            "\u001b[0;32m<ipython-input-1-d39cb9289050>\u001b[0m in \u001b[0;36m<cell line: 0>\u001b[0;34m()\u001b[0m\n\u001b[1;32m     22\u001b[0m \u001b[0;34m\u001b[0m\u001b[0m\n\u001b[1;32m     23\u001b[0m \u001b[0;31m# Apply the map to your dataframe\u001b[0m\u001b[0;34m\u001b[0m\u001b[0;34m\u001b[0m\u001b[0m\n\u001b[0;32m---> 24\u001b[0;31m \u001b[0mmerged\u001b[0m\u001b[0;34m[\u001b[0m\u001b[0;34m'Region'\u001b[0m\u001b[0;34m]\u001b[0m \u001b[0;34m=\u001b[0m \u001b[0mmerged\u001b[0m\u001b[0;34m[\u001b[0m\u001b[0;34m'StateName'\u001b[0m\u001b[0;34m]\u001b[0m\u001b[0;34m.\u001b[0m\u001b[0mmap\u001b[0m\u001b[0;34m(\u001b[0m\u001b[0mregion_map_fullnames\u001b[0m\u001b[0;34m)\u001b[0m\u001b[0;34m\u001b[0m\u001b[0;34m\u001b[0m\u001b[0m\n\u001b[0m\u001b[1;32m     25\u001b[0m \u001b[0;34m\u001b[0m\u001b[0m\n\u001b[1;32m     26\u001b[0m \u001b[0;31m# Drop rows with unknown regions (e.g., D.C. or territories not in the map)\u001b[0m\u001b[0;34m\u001b[0m\u001b[0;34m\u001b[0m\u001b[0m\n",
            "\u001b[0;31mNameError\u001b[0m: name 'merged' is not defined"
          ]
        }
      ]
    },
    {
      "cell_type": "code",
      "source": [
        "# LYME STATS\n",
        "# National cases average\n",
        "avg_national_cases = lyme_long.groupby('YearRange')['Cases'].sum().mean()\n",
        "print(f\"Average Lyme disease cases nationwide (per 5-year period 1992–2011): {avg_national_cases:.2f}\")\n",
        "\n",
        "# National total for 2007–2011\n",
        "cases_2007_2011 = lyme_long[lyme_long['YearRange'] == '2007-2011']['Cases'].sum()\n",
        "print(f\"Total Lyme disease cases nationwide for 2007–2011: {cases_2007_2011}\")\n",
        "\n",
        "# State with highest total cases\n",
        "state_cases = lyme_long.groupby('StateName')['Cases'].sum().reset_index().sort_values(by='Cases', ascending=False)\n",
        "max_state_row = state_cases.iloc[0]\n",
        "max_state_name = max_state_row['StateName']\n",
        "max_state_cases = max_state_row['Cases']\n",
        "print(f\"State with highest total Lyme disease cases (1992–2011): {max_state_name} ({max_state_cases} cases)\")\n",
        "\n",
        "# WEATHER STATS\n",
        "\n",
        "# National average temperature by year range\n",
        "avg_temp_by_year = merged.groupby('YearRange')['AvgTemp'].mean().reset_index()\n",
        "print(\"\\nAverage temperature by year range:\")\n",
        "print(avg_temp_by_year)\n",
        "\n",
        "# State with highest average temperature overall\n",
        "state_temp_avg = merged.groupby('StateName')['AvgTemp'].mean().reset_index().sort_values(by='AvgTemp', ascending=False)\n",
        "hottest_state = state_temp_avg.iloc[0]\n",
        "print(f\"\\nState with highest average temperature: {hottest_state['StateName']} ({hottest_state['AvgTemp']:.2f}°F)\")\n",
        "\n",
        "# Correlation coefficient between temperature and Lyme cases\n",
        "correlation = merged[['Cases', 'AvgTemp']].corr().iloc[0,1]\n",
        "print(f\"\\nCorrelation between temperature and Lyme disease cases: {correlation:.3f}\")"
      ],
      "metadata": {
        "colab": {
          "base_uri": "https://localhost:8080/"
        },
        "id": "oRbDe22wQyjN",
        "outputId": "3640ab49-9b86-4abb-c86d-1c1304a0a952"
      },
      "execution_count": null,
      "outputs": [
        {
          "output_type": "stream",
          "name": "stdout",
          "text": [
            "Average Lyme disease cases nationwide (per 5-year period 1992–2011): 95330.50\n",
            "Total Lyme disease cases nationwide for 2007–2011: 133249\n",
            "State with highest total Lyme disease cases (1992–2011): New York (87588 cases)\n",
            "\n",
            "Average temperature by year range:\n",
            "   YearRange    AvgTemp\n",
            "0  1992-1996  53.902679\n",
            "1  1997-2001  54.758804\n",
            "2  2002-2006  55.121366\n",
            "3  2007-2011  54.573146\n",
            "\n",
            "State with highest average temperature: Florida (70.37°F)\n",
            "\n",
            "Correlation between temperature and Lyme disease cases: -0.069\n"
          ]
        }
      ]
    },
    {
      "cell_type": "code",
      "source": [
        "from google.colab import drive\n",
        "drive.mount('/content/drive')\n",
        "!jupyter nbconvert --to html \"/content/drive/My Drive/DataScienceProject/Murray_Patri_M1.ipynb\"\n"
      ],
      "metadata": {
        "colab": {
          "base_uri": "https://localhost:8080/"
        },
        "id": "KrvDAk9lVhIa",
        "outputId": "a8c363a8-dd85-4247-c923-6ba3395b2049"
      },
      "execution_count": null,
      "outputs": [
        {
          "output_type": "stream",
          "name": "stdout",
          "text": [
            "Drive already mounted at /content/drive; to attempt to forcibly remount, call drive.mount(\"/content/drive\", force_remount=True).\n",
            "[NbConvertApp] Converting notebook /content/drive/My Drive/DataScienceProject/Murray_Patri_M1.ipynb to html\n",
            "[NbConvertApp] WARNING | Alternative text is missing on 3 image(s).\n",
            "[NbConvertApp] Writing 600487 bytes to /content/drive/My Drive/DataScienceProject/Murray_Patri_M1.html\n"
          ]
        }
      ]
    }
  ]
}